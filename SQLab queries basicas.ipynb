{
 "cells": [
  {
   "cell_type": "markdown",
   "id": "26e66913",
   "metadata": {},
   "source": [
    "# SQLab: SQL para investigación científica"
   ]
  },
  {
   "cell_type": "markdown",
   "id": "d0b3351f",
   "metadata": {},
   "source": [
    "## ¿Qué es SQL?\n",
    "\n",
    "SQL (o Structured Query Language) es un lenguaje de programación utilizado para gestionar y manipular bases de datos relacionales.\n",
    "\n",
    "Es básicamente un Excel en esteroides, ya que maneja de manera eficiente grandes volúmenes de datos (desde 10 GB hasta cientos de petabytes) manteniendo una interfaz de usuario sencilla.\n",
    "\n",
    "\n",
    "![SQL](https://upload.wikimedia.org/wikipedia/commons/thumb/8/87/Sql_data_base_with_logo.png/640px-Sql_data_base_with_logo.png)\n",
    "\n",
    "La manera en que se accede a la información de la base de datos se llama *Query* o *Consulta*\n"
   ]
  },
  {
   "cell_type": "markdown",
   "id": "df6235be",
   "metadata": {},
   "source": [
    "## Anatomía de una Query\n",
    "\n",
    "Una query se conforma de distintas partes:\n",
    "\n",
    "![Query anatomy](https://www.w3resource.com/w3r_images/select-syntax.gif)\n",
    "\n",
    "\n",
    "### **SELECT**\n",
    "Esta es la cláusula principal que especifica **qué columnas** quieres ver. Es lo que pides.\n",
    "\n",
    "* **Ejemplo:** `SELECT nombre_del_producto, precio`\n",
    "* **Función:** Le dice a la base de datos \"dame los datos de estas columnas\".\n",
    "\n",
    "***\n",
    "\n",
    "### **FROM**\n",
    "Esta cláusula indica **de dónde** vas a obtener los datos.\n",
    "\n",
    "* **Ejemplo:** `FROM tabla_de_productos`\n",
    "* **Función:** Le dice a la base de datos \"busca estos datos en esta tabla\".\n",
    "\n",
    "***\n",
    "\n",
    "### **WHERE**\n",
    "Esta cláusula es un filtro que especifica **qué filas** cumplen con una condición.\n",
    "\n",
    "* **Ejemplo:** `WHERE precio > 100`\n",
    "* **Función:** Le dice a la base de datos \"solo muéstrame las filas donde el precio es mayor a 100\".\n",
    "\n",
    "***\n",
    "\n",
    "### **GROUP BY**\n",
    "Esta cláusula agrupa filas que tienen el mismo valor en una o más columnas. Se usa con funciones de agregación como `COUNT`, `SUM` o `AVG`.\n",
    "\n",
    "* **Ejemplo:** `GROUP BY categoria`\n",
    "* **Función:** \"Agrupa los resultados por cada categoría única, para que pueda contar cuántos productos hay en cada una\".\n",
    "\n",
    "***\n",
    "\n",
    "### **ORDER BY**\n",
    "Esta cláusula ordena los resultados de la consulta.\n",
    "\n",
    "* **Ejemplo:** `ORDER BY precio DESC`\n",
    "* **Función:** \"Ordena los resultados de manera descendente (mayor a menor) basándose en el precio\".\n",
    "\n",
    "***\n",
    "\n",
    "### **HAVING**\n",
    "Similar a `WHERE`, pero se usa para filtrar los resultados de un `GROUP BY`.\n",
    "\n",
    "* **Ejemplo:** `HAVING COUNT(producto) > 50`\n",
    "* **Función:** \"Después de agrupar por categoría, solo incluye las categorías que tienen más de 50 productos\".\n",
    "\n",
    "### **El flujo de una query**\n",
    "\n",
    "A pesar de que escribes la consulta con `SELECT` al principio, el motor de la base de datos la procesa de una manera diferente. El orden de ejecución es:\n",
    "\n",
    "1.  **`FROM`**: Selecciona la tabla de origen.\n",
    "2.  **`WHERE`**: Filtra las filas de esa tabla.\n",
    "3.  **`GROUP BY`**: Agrupa las filas restantes.\n",
    "4.  **`HAVING`**: Filtra los grupos.\n",
    "5.  **`SELECT`**: Elige las columnas que se van a mostrar.\n",
    "6.  **`ORDER BY`**: Ordena el resultado final.\n"
   ]
  },
  {
   "cell_type": "markdown",
   "id": "fc4be2de",
   "metadata": {},
   "source": [
    "## Primer query\n",
    "\n",
    "\n",
    "En este taller vamos a estar ocupando datos de colisiones de partíclas medidos con el detector ATLAS del CERN.\n",
    "Para más información consultar: \n",
    "\n",
    "> ATLAS collaboration (2025). ATLAS ROOT ntuple format Run 2 2015+2016 proton-proton collision data beta release, 2J2LMET30 skim. CERN Open Data Portal. DOI:10.7483/OPENDATA.ATLAS.0CJR.N7ZT"
   ]
  },
  {
   "cell_type": "markdown",
   "id": "3d1fe8ed",
   "metadata": {},
   "source": [
    "Primero conectamos a la base de datos"
   ]
  },
  {
   "cell_type": "code",
   "execution_count": null,
   "id": "cbe01805",
   "metadata": {},
   "outputs": [
    {
     "name": "stdout",
     "output_type": "stream",
     "text": [
      "Conexión exitosa a MySQL.\n"
     ]
    }
   ],
   "source": [
    "import mysql.connector\n",
    "\n",
    "# Datos de conexión\n",
    "#Primero declaramos los datos para conectarse\n",
    "config = {\n",
    "    'user':\"<user>\", \n",
    "    'password':\"<pwd>\", \n",
    "    'host':\"<host address>\", \n",
    "    'port':3306, \n",
    "    'database':\"particles\"\n",
    "}\n",
    "\n",
    "try:\n",
    "    mydb = mysql.connector.connect(**config)\n",
    "    cursor = mydb.cursor()\n",
    "    print(\"Conexión exitosa a MySQL.\")\n",
    "except mysql.connector.Error as err:\n",
    "    print(f\"Error: {err}\")"
   ]
  },
  {
   "cell_type": "code",
   "execution_count": 21,
   "id": "d20c30b4",
   "metadata": {},
   "outputs": [
    {
     "name": "stdout",
     "output_type": "stream",
     "text": [
      "Tablas:  [('collisions',), ('jets',), ('leptons',), ('photons',)]\n"
     ]
    }
   ],
   "source": [
    "tables_query = \"SHOW TABLES\"\n",
    "cursor.execute(tables_query)\n",
    "tables = cursor.fetchall()\n",
    "print(\"Tablas: \",tables)\n"
   ]
  },
  {
   "cell_type": "markdown",
   "id": "16b232a6",
   "metadata": {},
   "source": [
    "## Usando SELECT"
   ]
  },
  {
   "cell_type": "code",
   "execution_count": 22,
   "id": "c7b7d047",
   "metadata": {},
   "outputs": [
    {
     "name": "stdout",
     "output_type": "stream",
     "text": [
      "Resultados de la tabla 'collisions':\n",
      "(0, 1, 1, 1, Decimal('57'), Decimal('1'), Decimal('43'), Decimal('38'))\n",
      "(1, 1, 1, 1, Decimal('32'), Decimal('1'), Decimal('16'), Decimal('28'))\n",
      "(2, 1, 1, 1, Decimal('41'), Decimal('2'), Decimal('-5'), Decimal('41'))\n",
      "(3, 1, 1, 1, Decimal('50'), Decimal('-1'), Decimal('17'), Decimal('-47'))\n",
      "(4, 1, 1, 1, Decimal('39'), Decimal('-3'), Decimal('-39'), Decimal('-7'))\n",
      "\n",
      "Resultados de 'met' y 'met_phi':\n",
      "(Decimal('57'), Decimal('1'))\n",
      "(Decimal('32'), Decimal('1'))\n",
      "(Decimal('41'), Decimal('2'))\n",
      "(Decimal('50'), Decimal('-1'))\n",
      "(Decimal('39'), Decimal('-3'))\n"
     ]
    }
   ],
   "source": [
    "# Consulta 1: Seleccionar todas las columnas de la tabla 'collisions'\n",
    "query_1 = \"\"\"\n",
    "SELECT * \n",
    "FROM collisions \n",
    "LIMIT 5\"\"\" # Usamos LIMIT para no saturar la salida\n",
    "cursor.execute(query_1)\n",
    "results_1 = cursor.fetchall()\n",
    "print(\"Resultados de la tabla 'collisions':\")\n",
    "for row in results_1:\n",
    "    print(row)\n",
    "\n",
    "# Consulta 2: Seleccionar 'met' y 'met_phi' de las colisiones\n",
    "query_2 = \"\"\"\n",
    "SELECT met, met_phi \n",
    "FROM collisions \n",
    "LIMIT 5\"\"\"\n",
    "cursor.execute(query_2)\n",
    "results_2 = cursor.fetchall()\n",
    "print(\"\\nResultados de 'met' y 'met_phi':\")\n",
    "for row in results_2:\n",
    "    print(row)"
   ]
  },
  {
   "cell_type": "markdown",
   "id": "8ad44bb2",
   "metadata": {},
   "source": [
    "#### Reto 1\n",
    "Escribe una query que obtenga las columnas *lep_type*, *lep_charge* y *lep_eta* de la tabla *leptons*:"
   ]
  },
  {
   "cell_type": "code",
   "execution_count": 23,
   "id": "d517ef32",
   "metadata": {},
   "outputs": [
    {
     "ename": "ProgrammingError",
     "evalue": "1065 (42000): Query was empty",
     "output_type": "error",
     "traceback": [
      "\u001b[1;31m---------------------------------------------------------------------------\u001b[0m",
      "\u001b[1;31mProgrammingError\u001b[0m                          Traceback (most recent call last)",
      "Cell \u001b[1;32mIn[23], line 4\u001b[0m\n\u001b[0;32m      1\u001b[0m reto_1 \u001b[38;5;241m=\u001b[39m \u001b[38;5;124m\"\"\"\u001b[39m\n\u001b[0;32m      2\u001b[0m \n\u001b[0;32m      3\u001b[0m \u001b[38;5;124m\"\"\"\u001b[39m \u001b[38;5;66;03m#Escribe la query aquí\u001b[39;00m\n\u001b[1;32m----> 4\u001b[0m \u001b[43mcursor\u001b[49m\u001b[38;5;241;43m.\u001b[39;49m\u001b[43mexecute\u001b[49m\u001b[43m(\u001b[49m\u001b[43mreto_1\u001b[49m\u001b[43m)\u001b[49m\n\u001b[0;32m      5\u001b[0m reto_1_res \u001b[38;5;241m=\u001b[39m cursor\u001b[38;5;241m.\u001b[39mfetchall()\n\u001b[0;32m      6\u001b[0m \u001b[38;5;28mprint\u001b[39m(\u001b[38;5;124m\"\u001b[39m\u001b[38;5;124mResultados del reto 1:\u001b[39m\u001b[38;5;124m\"\u001b[39m)\n",
      "File \u001b[1;32m~\\AppData\\Local\\Packages\\PythonSoftwareFoundation.Python.3.11_qbz5n2kfra8p0\\LocalCache\\local-packages\\Python311\\site-packages\\mysql\\connector\\cursor.py:418\u001b[0m, in \u001b[0;36mMySQLCursor.execute\u001b[1;34m(self, operation, params, map_results)\u001b[0m\n\u001b[0;32m    410\u001b[0m \u001b[38;5;28mself\u001b[39m\u001b[38;5;241m.\u001b[39m_executed_list \u001b[38;5;241m=\u001b[39m \u001b[38;5;28mself\u001b[39m\u001b[38;5;241m.\u001b[39m_stmt_partition[\u001b[38;5;124m\"\u001b[39m\u001b[38;5;124msingle_stmts\u001b[39m\u001b[38;5;124m\"\u001b[39m]\n\u001b[0;32m    411\u001b[0m \u001b[38;5;28mself\u001b[39m\u001b[38;5;241m.\u001b[39m_executed \u001b[38;5;241m=\u001b[39m (\n\u001b[0;32m    412\u001b[0m     \u001b[38;5;28mself\u001b[39m\u001b[38;5;241m.\u001b[39m_stmt_partition[\u001b[38;5;124m\"\u001b[39m\u001b[38;5;124msingle_stmts\u001b[39m\u001b[38;5;124m\"\u001b[39m]\u001b[38;5;241m.\u001b[39mpopleft()\n\u001b[0;32m    413\u001b[0m     \u001b[38;5;28;01mif\u001b[39;00m map_results\n\u001b[0;32m    414\u001b[0m     \u001b[38;5;28;01melse\u001b[39;00m \u001b[38;5;28mself\u001b[39m\u001b[38;5;241m.\u001b[39m_stmt_partition[\u001b[38;5;124m\"\u001b[39m\u001b[38;5;124mmappable_stmt\u001b[39m\u001b[38;5;124m\"\u001b[39m]\n\u001b[0;32m    415\u001b[0m )\n\u001b[0;32m    417\u001b[0m \u001b[38;5;28mself\u001b[39m\u001b[38;5;241m.\u001b[39m_handle_result(\n\u001b[1;32m--> 418\u001b[0m     \u001b[38;5;28;43mself\u001b[39;49m\u001b[38;5;241;43m.\u001b[39;49m\u001b[43m_connection\u001b[49m\u001b[38;5;241;43m.\u001b[39;49m\u001b[43mcmd_query\u001b[49m\u001b[43m(\u001b[49m\n\u001b[0;32m    419\u001b[0m \u001b[43m        \u001b[49m\u001b[38;5;28;43mself\u001b[39;49m\u001b[38;5;241;43m.\u001b[39;49m\u001b[43m_stmt_partition\u001b[49m\u001b[43m[\u001b[49m\u001b[38;5;124;43m\"\u001b[39;49m\u001b[38;5;124;43mmappable_stmt\u001b[39;49m\u001b[38;5;124;43m\"\u001b[39;49m\u001b[43m]\u001b[49m\u001b[43m,\u001b[49m\n\u001b[0;32m    420\u001b[0m \u001b[43m        \u001b[49m\u001b[43mread_timeout\u001b[49m\u001b[38;5;241;43m=\u001b[39;49m\u001b[38;5;28;43mself\u001b[39;49m\u001b[38;5;241;43m.\u001b[39;49m\u001b[43m_read_timeout\u001b[49m\u001b[43m,\u001b[49m\n\u001b[0;32m    421\u001b[0m \u001b[43m        \u001b[49m\u001b[43mwrite_timeout\u001b[49m\u001b[38;5;241;43m=\u001b[39;49m\u001b[38;5;28;43mself\u001b[39;49m\u001b[38;5;241;43m.\u001b[39;49m\u001b[43m_write_timeout\u001b[49m\u001b[43m,\u001b[49m\n\u001b[0;32m    422\u001b[0m \u001b[43m    \u001b[49m\u001b[43m)\u001b[49m\n\u001b[0;32m    423\u001b[0m )\n\u001b[0;32m    425\u001b[0m \u001b[38;5;28;01mreturn\u001b[39;00m \u001b[38;5;28;01mNone\u001b[39;00m\n",
      "File \u001b[1;32m~\\AppData\\Local\\Packages\\PythonSoftwareFoundation.Python.3.11_qbz5n2kfra8p0\\LocalCache\\local-packages\\Python311\\site-packages\\mysql\\connector\\opentelemetry\\context_propagation.py:97\u001b[0m, in \u001b[0;36mwith_context_propagation.<locals>.wrapper\u001b[1;34m(cnx, *args, **kwargs)\u001b[0m\n\u001b[0;32m     95\u001b[0m \u001b[38;5;66;03m# pylint: disable=possibly-used-before-assignment\u001b[39;00m\n\u001b[0;32m     96\u001b[0m \u001b[38;5;28;01mif\u001b[39;00m \u001b[38;5;129;01mnot\u001b[39;00m OTEL_ENABLED \u001b[38;5;129;01mor\u001b[39;00m \u001b[38;5;129;01mnot\u001b[39;00m cnx\u001b[38;5;241m.\u001b[39motel_context_propagation:\n\u001b[1;32m---> 97\u001b[0m     \u001b[38;5;28;01mreturn\u001b[39;00m \u001b[43mmethod\u001b[49m\u001b[43m(\u001b[49m\u001b[43mcnx\u001b[49m\u001b[43m,\u001b[49m\u001b[43m \u001b[49m\u001b[38;5;241;43m*\u001b[39;49m\u001b[43margs\u001b[49m\u001b[43m,\u001b[49m\u001b[43m \u001b[49m\u001b[38;5;241;43m*\u001b[39;49m\u001b[38;5;241;43m*\u001b[39;49m\u001b[43mkwargs\u001b[49m\u001b[43m)\u001b[49m\n\u001b[0;32m     99\u001b[0m current_span \u001b[38;5;241m=\u001b[39m trace\u001b[38;5;241m.\u001b[39mget_current_span()\n\u001b[0;32m    100\u001b[0m tp_header \u001b[38;5;241m=\u001b[39m \u001b[38;5;28;01mNone\u001b[39;00m\n",
      "File \u001b[1;32m~\\AppData\\Local\\Packages\\PythonSoftwareFoundation.Python.3.11_qbz5n2kfra8p0\\LocalCache\\local-packages\\Python311\\site-packages\\mysql\\connector\\_decorating.py:89\u001b[0m, in \u001b[0;36mhandle_read_write_timeout.<locals>.decorator.<locals>.handle_cnx_method\u001b[1;34m(cnx, *args, **kwargs)\u001b[0m\n\u001b[0;32m     87\u001b[0m \u001b[38;5;28;01mif\u001b[39;00m \u001b[38;5;28misinstance\u001b[39m(err, \u001b[38;5;167;01mTimeoutError\u001b[39;00m):\n\u001b[0;32m     88\u001b[0m     cnx\u001b[38;5;241m.\u001b[39mclose()\n\u001b[1;32m---> 89\u001b[0m \u001b[38;5;28;01mraise\u001b[39;00m err\n",
      "File \u001b[1;32m~\\AppData\\Local\\Packages\\PythonSoftwareFoundation.Python.3.11_qbz5n2kfra8p0\\LocalCache\\local-packages\\Python311\\site-packages\\mysql\\connector\\_decorating.py:85\u001b[0m, in \u001b[0;36mhandle_read_write_timeout.<locals>.decorator.<locals>.handle_cnx_method\u001b[1;34m(cnx, *args, **kwargs)\u001b[0m\n\u001b[0;32m     80\u001b[0m \u001b[38;5;129m@functools\u001b[39m\u001b[38;5;241m.\u001b[39mwraps(cnx_method)\n\u001b[0;32m     81\u001b[0m \u001b[38;5;28;01mdef\u001b[39;00m\u001b[38;5;250m \u001b[39m\u001b[38;5;21mhandle_cnx_method\u001b[39m(\n\u001b[0;32m     82\u001b[0m     cnx: \u001b[38;5;124m\"\u001b[39m\u001b[38;5;124mMySQLConnectionAbstract\u001b[39m\u001b[38;5;124m\"\u001b[39m, \u001b[38;5;241m*\u001b[39margs: Any, \u001b[38;5;241m*\u001b[39m\u001b[38;5;241m*\u001b[39mkwargs: Any\n\u001b[0;32m     83\u001b[0m ) \u001b[38;5;241m-\u001b[39m\u001b[38;5;241m>\u001b[39m Any:\n\u001b[0;32m     84\u001b[0m     \u001b[38;5;28;01mtry\u001b[39;00m:\n\u001b[1;32m---> 85\u001b[0m         \u001b[38;5;28;01mreturn\u001b[39;00m \u001b[43mcnx_method\u001b[49m\u001b[43m(\u001b[49m\u001b[43mcnx\u001b[49m\u001b[43m,\u001b[49m\u001b[43m \u001b[49m\u001b[38;5;241;43m*\u001b[39;49m\u001b[43margs\u001b[49m\u001b[43m,\u001b[49m\u001b[43m \u001b[49m\u001b[38;5;241;43m*\u001b[39;49m\u001b[38;5;241;43m*\u001b[39;49m\u001b[43mkwargs\u001b[49m\u001b[43m)\u001b[49m\n\u001b[0;32m     86\u001b[0m     \u001b[38;5;28;01mexcept\u001b[39;00m \u001b[38;5;167;01mException\u001b[39;00m \u001b[38;5;28;01mas\u001b[39;00m err:\n\u001b[0;32m     87\u001b[0m         \u001b[38;5;28;01mif\u001b[39;00m \u001b[38;5;28misinstance\u001b[39m(err, \u001b[38;5;167;01mTimeoutError\u001b[39;00m):\n",
      "File \u001b[1;32m~\\AppData\\Local\\Packages\\PythonSoftwareFoundation.Python.3.11_qbz5n2kfra8p0\\LocalCache\\local-packages\\Python311\\site-packages\\mysql\\connector\\connection.py:984\u001b[0m, in \u001b[0;36mMySQLConnection.cmd_query\u001b[1;34m(self, query, raw, buffered, raw_as_string, **kwargs)\u001b[0m\n\u001b[0;32m    981\u001b[0m     read_timeout \u001b[38;5;241m=\u001b[39m kwargs\u001b[38;5;241m.\u001b[39mget(\u001b[38;5;124m\"\u001b[39m\u001b[38;5;124mread_timeout\u001b[39m\u001b[38;5;124m\"\u001b[39m, \u001b[38;5;28;01mNone\u001b[39;00m)\n\u001b[0;32m    982\u001b[0m     write_timeout \u001b[38;5;241m=\u001b[39m kwargs\u001b[38;5;241m.\u001b[39mget(\u001b[38;5;124m\"\u001b[39m\u001b[38;5;124mwrite_timeout\u001b[39m\u001b[38;5;124m\"\u001b[39m, \u001b[38;5;28;01mNone\u001b[39;00m)\n\u001b[1;32m--> 984\u001b[0m     result \u001b[38;5;241m=\u001b[39m \u001b[38;5;28;43mself\u001b[39;49m\u001b[38;5;241;43m.\u001b[39;49m\u001b[43m_handle_result\u001b[49m\u001b[43m(\u001b[49m\n\u001b[0;32m    985\u001b[0m \u001b[43m        \u001b[49m\u001b[38;5;28;43mself\u001b[39;49m\u001b[38;5;241;43m.\u001b[39;49m\u001b[43m_send_cmd\u001b[49m\u001b[43m(\u001b[49m\n\u001b[0;32m    986\u001b[0m \u001b[43m            \u001b[49m\u001b[43mServerCmd\u001b[49m\u001b[38;5;241;43m.\u001b[39;49m\u001b[43mQUERY\u001b[49m\u001b[43m,\u001b[49m\n\u001b[0;32m    987\u001b[0m \u001b[43m            \u001b[49m\u001b[43mquery\u001b[49m\u001b[43m,\u001b[49m\n\u001b[0;32m    988\u001b[0m \u001b[43m            \u001b[49m\u001b[43mread_timeout\u001b[49m\u001b[38;5;241;43m=\u001b[39;49m\u001b[43mread_timeout\u001b[49m\u001b[43m,\u001b[49m\n\u001b[0;32m    989\u001b[0m \u001b[43m            \u001b[49m\u001b[43mwrite_timeout\u001b[49m\u001b[38;5;241;43m=\u001b[39;49m\u001b[43mwrite_timeout\u001b[49m\u001b[43m,\u001b[49m\n\u001b[0;32m    990\u001b[0m \u001b[43m        \u001b[49m\u001b[43m)\u001b[49m\u001b[43m,\u001b[49m\n\u001b[0;32m    991\u001b[0m \u001b[43m        \u001b[49m\u001b[43mread_timeout\u001b[49m\u001b[43m,\u001b[49m\n\u001b[0;32m    992\u001b[0m \u001b[43m        \u001b[49m\u001b[43mwrite_timeout\u001b[49m\u001b[43m,\u001b[49m\n\u001b[0;32m    993\u001b[0m \u001b[43m    \u001b[49m\u001b[43m)\u001b[49m\n\u001b[0;32m    994\u001b[0m \u001b[38;5;28;01mexcept\u001b[39;00m ProgrammingError \u001b[38;5;28;01mas\u001b[39;00m err:\n\u001b[0;32m    995\u001b[0m     \u001b[38;5;28;01mif\u001b[39;00m err\u001b[38;5;241m.\u001b[39merrno \u001b[38;5;241m==\u001b[39m \u001b[38;5;241m3948\u001b[39m \u001b[38;5;129;01mand\u001b[39;00m \u001b[38;5;124m\"\u001b[39m\u001b[38;5;124mLoading local data is disabled\u001b[39m\u001b[38;5;124m\"\u001b[39m \u001b[38;5;129;01min\u001b[39;00m err\u001b[38;5;241m.\u001b[39mmsg:\n",
      "File \u001b[1;32m~\\AppData\\Local\\Packages\\PythonSoftwareFoundation.Python.3.11_qbz5n2kfra8p0\\LocalCache\\local-packages\\Python311\\site-packages\\mysql\\connector\\_decorating.py:89\u001b[0m, in \u001b[0;36mhandle_read_write_timeout.<locals>.decorator.<locals>.handle_cnx_method\u001b[1;34m(cnx, *args, **kwargs)\u001b[0m\n\u001b[0;32m     87\u001b[0m \u001b[38;5;28;01mif\u001b[39;00m \u001b[38;5;28misinstance\u001b[39m(err, \u001b[38;5;167;01mTimeoutError\u001b[39;00m):\n\u001b[0;32m     88\u001b[0m     cnx\u001b[38;5;241m.\u001b[39mclose()\n\u001b[1;32m---> 89\u001b[0m \u001b[38;5;28;01mraise\u001b[39;00m err\n",
      "File \u001b[1;32m~\\AppData\\Local\\Packages\\PythonSoftwareFoundation.Python.3.11_qbz5n2kfra8p0\\LocalCache\\local-packages\\Python311\\site-packages\\mysql\\connector\\_decorating.py:85\u001b[0m, in \u001b[0;36mhandle_read_write_timeout.<locals>.decorator.<locals>.handle_cnx_method\u001b[1;34m(cnx, *args, **kwargs)\u001b[0m\n\u001b[0;32m     80\u001b[0m \u001b[38;5;129m@functools\u001b[39m\u001b[38;5;241m.\u001b[39mwraps(cnx_method)\n\u001b[0;32m     81\u001b[0m \u001b[38;5;28;01mdef\u001b[39;00m\u001b[38;5;250m \u001b[39m\u001b[38;5;21mhandle_cnx_method\u001b[39m(\n\u001b[0;32m     82\u001b[0m     cnx: \u001b[38;5;124m\"\u001b[39m\u001b[38;5;124mMySQLConnectionAbstract\u001b[39m\u001b[38;5;124m\"\u001b[39m, \u001b[38;5;241m*\u001b[39margs: Any, \u001b[38;5;241m*\u001b[39m\u001b[38;5;241m*\u001b[39mkwargs: Any\n\u001b[0;32m     83\u001b[0m ) \u001b[38;5;241m-\u001b[39m\u001b[38;5;241m>\u001b[39m Any:\n\u001b[0;32m     84\u001b[0m     \u001b[38;5;28;01mtry\u001b[39;00m:\n\u001b[1;32m---> 85\u001b[0m         \u001b[38;5;28;01mreturn\u001b[39;00m \u001b[43mcnx_method\u001b[49m\u001b[43m(\u001b[49m\u001b[43mcnx\u001b[49m\u001b[43m,\u001b[49m\u001b[43m \u001b[49m\u001b[38;5;241;43m*\u001b[39;49m\u001b[43margs\u001b[49m\u001b[43m,\u001b[49m\u001b[43m \u001b[49m\u001b[38;5;241;43m*\u001b[39;49m\u001b[38;5;241;43m*\u001b[39;49m\u001b[43mkwargs\u001b[49m\u001b[43m)\u001b[49m\n\u001b[0;32m     86\u001b[0m     \u001b[38;5;28;01mexcept\u001b[39;00m \u001b[38;5;167;01mException\u001b[39;00m \u001b[38;5;28;01mas\u001b[39;00m err:\n\u001b[0;32m     87\u001b[0m         \u001b[38;5;28;01mif\u001b[39;00m \u001b[38;5;28misinstance\u001b[39m(err, \u001b[38;5;167;01mTimeoutError\u001b[39;00m):\n",
      "File \u001b[1;32m~\\AppData\\Local\\Packages\\PythonSoftwareFoundation.Python.3.11_qbz5n2kfra8p0\\LocalCache\\local-packages\\Python311\\site-packages\\mysql\\connector\\connection.py:745\u001b[0m, in \u001b[0;36mMySQLConnection._handle_result\u001b[1;34m(self, packet, read_timeout, write_timeout)\u001b[0m\n\u001b[0;32m    743\u001b[0m     \u001b[38;5;28;01mreturn\u001b[39;00m \u001b[38;5;28mself\u001b[39m\u001b[38;5;241m.\u001b[39m_handle_eof(packet)\n\u001b[0;32m    744\u001b[0m \u001b[38;5;28;01mif\u001b[39;00m packet[\u001b[38;5;241m4\u001b[39m] \u001b[38;5;241m==\u001b[39m ERR_STATUS:\n\u001b[1;32m--> 745\u001b[0m     \u001b[38;5;28;01mraise\u001b[39;00m get_exception(packet)\n\u001b[0;32m    747\u001b[0m \u001b[38;5;66;03m# We have a text result set\u001b[39;00m\n\u001b[0;32m    748\u001b[0m column_count \u001b[38;5;241m=\u001b[39m \u001b[38;5;28mself\u001b[39m\u001b[38;5;241m.\u001b[39m_protocol\u001b[38;5;241m.\u001b[39mparse_column_count(packet)\n",
      "\u001b[1;31mProgrammingError\u001b[0m: 1065 (42000): Query was empty"
     ]
    }
   ],
   "source": [
    "\n",
    "reto_1 = \"\"\"\n",
    "\n",
    "\"\"\" #Escribe la query aquí\n",
    "cursor.execute(reto_1)\n",
    "reto_1_res = cursor.fetchall()\n",
    "print(\"Resultados del reto 1:\")\n",
    "for row in reto_1_res:\n",
    "    print(row)"
   ]
  },
  {
   "cell_type": "markdown",
   "id": "a2a4a259",
   "metadata": {},
   "source": [
    "## Usando WHERE"
   ]
  },
  {
   "cell_type": "code",
   "execution_count": 24,
   "id": "84a758c4",
   "metadata": {},
   "outputs": [
    {
     "name": "stdout",
     "output_type": "stream",
     "text": [
      "Colisiones con met > 50:\n",
      "(Decimal('57'), Decimal('1'))\n",
      "(Decimal('59'), Decimal('-1'))\n",
      "(Decimal('82'), Decimal('-2'))\n",
      "(Decimal('69'), Decimal('3'))\n",
      "(Decimal('69'), Decimal('1'))\n",
      "(Decimal('59'), Decimal('1'))\n",
      "(Decimal('61'), Decimal('1'))\n",
      "(Decimal('63'), Decimal('1'))\n",
      "(Decimal('52'), Decimal('-1'))\n",
      "(Decimal('73'), Decimal('-1'))\n"
     ]
    }
   ],
   "source": [
    "# Consulta 3: Colisiones donde 'met' es mayor a 50\n",
    "query_3 = \"\"\"\n",
    "SELECT met, met_phi \n",
    "FROM collisions \n",
    "WHERE met > 50 LIMIT 10\"\"\"\n",
    "cursor.execute(query_3)\n",
    "results_3 = cursor.fetchall()\n",
    "print(\"Colisiones con met > 50:\")\n",
    "for row in results_3:\n",
    "    print(row)"
   ]
  },
  {
   "cell_type": "markdown",
   "id": "113af4a9",
   "metadata": {},
   "source": [
    "#### Reto 2\n",
    "Escribe una query que devuelva todas las partículas jet de la tabla *jets* cuya energía (jet_e) sea mayor a 100 "
   ]
  },
  {
   "cell_type": "code",
   "execution_count": null,
   "id": "36553a1b",
   "metadata": {},
   "outputs": [],
   "source": [
    "reto_2 = \"\"\"\n",
    "\n",
    "\"\"\" #Escribe la query aquí\n",
    "cursor.execute(reto_2)\n",
    "reto_2_res = cursor.fetchall()\n",
    "print(\"Resultados del reto 2:\")\n",
    "for row in reto_2_res:\n",
    "    print(row)"
   ]
  },
  {
   "cell_type": "markdown",
   "id": "00c89cb8",
   "metadata": {},
   "source": [
    "## Usando ORDER BY"
   ]
  },
  {
   "cell_type": "code",
   "execution_count": 25,
   "id": "1e4be18f",
   "metadata": {},
   "outputs": [
    {
     "name": "stdout",
     "output_type": "stream",
     "text": [
      "\n",
      "Las 5 colisiones con el met más alto:\n",
      "met: 546, met_phi: -2\n",
      "met: 418, met_phi: -3\n",
      "met: 398, met_phi: 0\n",
      "met: 395, met_phi: 3\n",
      "met: 377, met_phi: 2\n"
     ]
    }
   ],
   "source": [
    "# Consulta 4: Las 5 colisiones con el met más alto\n",
    "query_4 = \"\"\"\n",
    "SELECT met, met_phi \n",
    "FROM collisions \n",
    "ORDER BY met DESC \n",
    "LIMIT 5\"\"\"\n",
    "cursor.execute(query_4)\n",
    "results_4 = cursor.fetchall()\n",
    "print(\"\\nLas 5 colisiones con el met más alto:\")\n",
    "for row in results_4:\n",
    "    print(f\"met: {row[0]}, met_phi: {row[1]}\")  "
   ]
  },
  {
   "cell_type": "markdown",
   "id": "d479b355",
   "metadata": {},
   "source": [
    "#### Reto 3\n",
    "Escribe una query que muestre los 10 fotones con menor tiempo estimado de llegada (photon_eta) de la tabla photons"
   ]
  },
  {
   "cell_type": "code",
   "execution_count": null,
   "id": "9d61b2ff",
   "metadata": {},
   "outputs": [],
   "source": [
    "reto_3 = \"\"\"\n",
    "\n",
    "\"\"\" #Escribe la query aquí\n",
    "cursor.execute(reto_3)\n",
    "reto_3_res = cursor.fetchall()\n",
    "print(\"Resultados del reto 3:\")\n",
    "for row in reto_3_res:\n",
    "    print(row)"
   ]
  },
  {
   "cell_type": "markdown",
   "id": "397450ee",
   "metadata": {},
   "source": [
    "## Usando funciones de agregación"
   ]
  },
  {
   "cell_type": "code",
   "execution_count": 27,
   "id": "45c2a8cf",
   "metadata": {},
   "outputs": [
    {
     "name": "stdout",
     "output_type": "stream",
     "text": [
      "\n",
      "Energía promedio de los jets: 100.8668\n",
      "Número total de leptones: 21461\n"
     ]
    }
   ],
   "source": [
    "# Consulta 5: Encontrar la energía promedio de los jets\n",
    "query_5 = \"\"\"\n",
    "SELECT AVG(jet_e) \n",
    "FROM jets\"\"\"\n",
    "cursor.execute(query_5)\n",
    "result_5 = cursor.fetchone() # Usamos fetchone() porque la consulta solo devuelve una fila\n",
    "print(f\"\\nEnergía promedio de los jets: {result_5[0]}\")\n",
    "\n",
    "# Consulta 6: Contar el número total de leptones\n",
    "query_6 = \"\"\"\n",
    "SELECT COUNT(*) \n",
    "FROM leptons\"\"\"\n",
    "cursor.execute(query_6)\n",
    "result_6 = cursor.fetchone()\n",
    "print(f\"Número total de leptones: {result_6[0]}\")"
   ]
  },
  {
   "cell_type": "markdown",
   "id": "d0e80113",
   "metadata": {},
   "source": [
    "### Usando funciones de agregación con GROUP BY"
   ]
  },
  {
   "cell_type": "code",
   "execution_count": 28,
   "id": "702c0e3d",
   "metadata": {},
   "outputs": [
    {
     "name": "stdout",
     "output_type": "stream",
     "text": [
      "\n",
      "Conteo de leptones por tipo:\n",
      "Tipo 11: 6303 leptones\n",
      "Tipo 13: 15158 leptones\n"
     ]
    }
   ],
   "source": [
    "# Consulta 7: Contar el número de leptones por 'lep_type'\n",
    "query_7 = \"\"\"\n",
    "SELECT lep_type, COUNT(*) AS total_leptones\n",
    "FROM leptons\n",
    "GROUP BY lep_type\n",
    "\"\"\"\n",
    "cursor.execute(query_7)\n",
    "results_7 = cursor.fetchall()\n",
    "print(\"\\nConteo de leptones por tipo:\")\n",
    "for row in results_7:\n",
    "    print(f\"Tipo {row[0]}: {row[1]} leptones\")"
   ]
  },
  {
   "cell_type": "markdown",
   "id": "ab910fff",
   "metadata": {},
   "source": [
    "#### Reto 4\n",
    "Escribe una query para mostrar la mayor cantidad de energía (*MAX()*) por colisión de la tabla photons."
   ]
  },
  {
   "cell_type": "code",
   "execution_count": null,
   "id": "b0f5b2f2",
   "metadata": {},
   "outputs": [],
   "source": [
    "reto_4 = \"\"\"\n",
    "\n",
    "\"\"\" #Escribe la query aquí\n",
    "cursor.execute(reto_4)\n",
    "reto_4_res = cursor.fetchall()\n",
    "print(\"Resultados del reto 4:\")\n",
    "for row in reto_4_res:\n",
    "    print(row)"
   ]
  },
  {
   "cell_type": "markdown",
   "id": "f04a957a",
   "metadata": {},
   "source": [
    "## Usando joins\n",
    "\n",
    "Los **JOINs** en SQL son la forma de combinar filas de dos o más tablas basándose en una columna común. Piensa en ellos como la manera de vincular información relacionada que se encuentra en lugares separados.\n",
    "\n",
    "-----\n",
    "\n",
    "### **Tipos principales de JOINs**\n",
    "\n",
    "#### **1. INNER JOIN**\n",
    "\n",
    "Este es el tipo más común. Un `INNER JOIN` devuelve solo las filas donde hay una **coincidencia en ambas tablas**. Es como encontrar la intersección de dos conjuntos.\n",
    "\n",
    "  * **Cuándo usarlo:** Cuando quieres ver solo los registros que tienen información relacionada en ambas tablas.\n",
    "  * **Ejemplo:** Si quieres una lista de todos los clientes que **han hecho una compra**, vinculas la tabla de `clientes` con la tabla de `pedidos`.\n",
    "  * \n",
    "#### **2. LEFT JOIN** (o LEFT OUTER JOIN)\n",
    "\n",
    "Un `LEFT JOIN` devuelve **todas las filas de la tabla de la izquierda** y las filas coincidentes de la tabla de la derecha. Si no hay una coincidencia en la tabla derecha, los valores para esa fila serán `NULL`.\n",
    "\n",
    "  * **Cuándo usarlo:** Cuando quieres ver todos los registros de una tabla, incluso si no tienen una coincidencia en la otra.\n",
    "  * **Ejemplo:** Si quieres una lista de **todos los clientes**, incluyendo aquellos que **nunca han hecho un pedido**.\n",
    "  * \n",
    "#### **3. RIGHT JOIN** (o RIGHT OUTER JOIN)\n",
    "\n",
    "Funciona de manera opuesta al `LEFT JOIN`. Un `RIGHT JOIN` devuelve **todas las filas de la tabla de la derecha** y las filas coincidentes de la tabla de la izquierda. Si no hay coincidencia, los valores de la tabla izquierda serán `NULL`.\n",
    "\n",
    "  * **Cuándo usarlo:** Cuando la tabla de la derecha es tu punto de referencia principal.\n",
    "  * **Ejemplo:** Si quieres ver **todos los pedidos**, incluso si por alguna razón no tienen un cliente asociado.\n",
    "  * \n",
    "#### **4. FULL OUTER JOIN**\n",
    "\n",
    "Un `FULL OUTER JOIN` devuelve **todas las filas de ambas tablas**, combinando las que coinciden y mostrando `NULL` donde no hay una coincidencia en una u otra tabla.\n",
    "\n",
    "  * **Cuándo usarlo:** Cuando quieres ver todos los registros de ambas tablas para encontrar coincidencias o valores faltantes en ambos lados.\n",
    "  * **Ejemplo:** Si quieres una lista de **todos los clientes y todos los pedidos**, y quieres ver qué pedidos no tienen cliente y qué clientes no tienen pedido.\n",
    "  * \n",
    "\n",
    "-----\n",
    "\n",
    "![Join types](https://miro.medium.com/1*O1OF5tmI-g7CnAERuUv1Wg.png)\n",
    "\n",
    "### **Sintaxis Básica**\n",
    "\n",
    "La sintaxis para todos los JOINs es similar:\n",
    "\n",
    "```sql\n",
    "SELECT\n",
    "    columnas\n",
    "FROM\n",
    "    tabla_A\n",
    "TIPO_DE_JOIN tabla_B ON tabla_A.columna_común = tabla_B.columna_común;\n",
    "```"
   ]
  },
  {
   "cell_type": "code",
   "execution_count": 29,
   "id": "7f22e80b",
   "metadata": {},
   "outputs": [
    {
     "name": "stdout",
     "output_type": "stream",
     "text": [
      "\n",
      "Unión de colisiones y leptones:\n",
      "met: 57, Tipo de leptón: 11, Carga: -1\n",
      "met: 57, Tipo de leptón: 11, Carga: -1\n",
      "met: 57, Tipo de leptón: 13, Carga: 1\n",
      "met: 32, Tipo de leptón: 11, Carga: 1\n",
      "met: 32, Tipo de leptón: 11, Carga: -1\n",
      "met: 41, Tipo de leptón: 13, Carga: -1\n",
      "met: 41, Tipo de leptón: 13, Carga: 1\n",
      "met: 50, Tipo de leptón: 13, Carga: -1\n",
      "met: 50, Tipo de leptón: 13, Carga: 1\n",
      "met: 39, Tipo de leptón: 13, Carga: 1\n"
     ]
    }
   ],
   "source": [
    "# Consulta 8: Obtener el met de la colisión junto con el tipo y carga del leptón\n",
    "query_8 = \"\"\"\n",
    "SELECT T1.met, T2.lep_type, T2.lep_charge\n",
    "FROM collisions AS T1\n",
    "JOIN leptons AS T2 ON T1.collision_ID = T2.collision_ID\n",
    "LIMIT 10\n",
    "\"\"\"\n",
    "cursor.execute(query_8)\n",
    "results_8 = cursor.fetchall()\n",
    "print(\"\\nUnión de colisiones y leptones:\")\n",
    "for row in results_8:\n",
    "    print(f\"met: {row[0]}, Tipo de leptón: {row[1]}, Carga: {row[2]}\")"
   ]
  },
  {
   "cell_type": "markdown",
   "id": "63446ff4",
   "metadata": {},
   "source": [
    "#### Reto 5\n",
    "Escribe una query para unir la tabla collisions con la tabla jets y muestra el collision_ID,  jet_pt,   jet_eta,  jet_phi,  jet_e, jet_btag_quantile"
   ]
  },
  {
   "cell_type": "code",
   "execution_count": null,
   "id": "48c760a5",
   "metadata": {},
   "outputs": [],
   "source": [
    "reto_5 = \"\"\"\n",
    "\n",
    "\"\"\" #Escribe la query aquí\n",
    "cursor.execute(reto_5)\n",
    "reto_5_res = cursor.fetchall()\n",
    "print(\"Resultados del reto 5:\")\n",
    "for row in reto_5_res:\n",
    "    print(row)"
   ]
  },
  {
   "cell_type": "markdown",
   "id": "53c76e82",
   "metadata": {},
   "source": [
    "## Subqueries\n",
    "\n",
    "Las subqueries son consultas SQL que están **dentro de otra query SQL**. Permiten realizar operaciones mas complejas.\n",
    "\n",
    "-----\n",
    "\n",
    "### **Tipos de Subqueries**\n",
    "\n",
    "Hay dos tipos principales de subqueries, según su posición en la query principal:\n",
    "\n",
    "#### **1. Subqueries en la cláusula `WHERE`**\n",
    "\n",
    "Este es el uso más común. La subquery se utiliza para filtrar filas en la consulta externa. A menudo se usan con operadores como `=`, `IN`, `EXISTS` o con operadores de comparación como `>`, `<`.\n",
    "\n",
    "  * **Ejemplo:** ¿Qué empleados ganan más que el salario promedio?\n",
    "      * **Consulta Principal:** `SELECT nombre FROM empleados`\n",
    "      * **Subquery (dentro de `WHERE`):** `(SELECT AVG(salario) FROM empleados)`\n",
    "      * **Consulta Completa:**\n",
    "        ```sql\n",
    "        SELECT nombre\n",
    "        FROM empleados\n",
    "        WHERE salario > (SELECT AVG(salario) FROM empleados);\n",
    "        ```\n",
    "\n",
    "#### **2. Subqueries en la cláusula `FROM`**\n",
    "\n",
    "Una subquery en la cláusula `FROM` se conoce como **tabla derivada**. El resultado de la subquery se trata como una tabla temporal que la consulta principal puede usar.\n",
    "\n",
    "  * **Ejemplo:** ¿Cuál es el salario promedio por departamento?\n",
    "      * **Consulta Principal:** `SELECT AVG(salario_promedio)`\n",
    "      * **Subquery (dentro de `FROM`):** `(SELECT departamento, AVG(salario) AS salario_promedio FROM empleados GROUP BY departamento)`\n",
    "      * **Consulta Completa:**\n",
    "        ```sql\n",
    "        SELECT AVG(salario_promedio)\n",
    "        FROM (\n",
    "            SELECT departamento, AVG(salario) AS salario_promedio\n",
    "            FROM empleados\n",
    "            GROUP BY departamento\n",
    "        ) AS salarios_por_depto;\n",
    "        ```\n",
    "      * **Nota:** La tabla derivada (`salarios_por_depto`) debe tener un alias (`AS`) para ser referenciada por la consulta principal.\n",
    "\n",
    "-----\n",
    "\n",
    "\n",
    "![Subqueries](https://media.geeksforgeeks.org/wp-content/uploads/20240109190230/Correlated_Subquery.png)\n"
   ]
  },
  {
   "cell_type": "code",
   "execution_count": 30,
   "id": "479aa8a2",
   "metadata": {},
   "outputs": [
    {
     "name": "stdout",
     "output_type": "stream",
     "text": [
      "\n",
      "Energía Promedio de Fotones por Colisión:\n",
      "Colisión ID: 119, Energía Promedio de Fotones: 81.68 MeV\n",
      "Colisión ID: 243, Energía Promedio de Fotones: 145.51 MeV\n",
      "Colisión ID: 451, Energía Promedio de Fotones: 86.14 MeV\n",
      "Colisión ID: 652, Energía Promedio de Fotones: 60.39 MeV\n",
      "Colisión ID: 725, Energía Promedio de Fotones: 256.07 MeV\n",
      "Colisión ID: 834, Energía Promedio de Fotones: 163.21 MeV\n",
      "Colisión ID: 862, Energía Promedio de Fotones: 68.84 MeV\n",
      "Colisión ID: 1433, Energía Promedio de Fotones: 99.76 MeV\n",
      "Colisión ID: 1492, Energía Promedio de Fotones: 67.32 MeV\n",
      "Colisión ID: 1502, Energía Promedio de Fotones: 62.90 MeV\n"
     ]
    }
   ],
   "source": [
    "# %%\n",
    "# Consulta 9: Obtener la energía promedio de los fotones por colisión\n",
    "query_9 = \"\"\"\n",
    "SELECT * \n",
    "FROM\n",
    "(SELECT\n",
    "  collision_ID,\n",
    "  AVG(photon_e) AS avg_photon_energy\n",
    "FROM\n",
    "  photons\n",
    "GROUP BY collision_ID) AS avg_e\n",
    "WHERE avg_photon_energy > 50\n",
    "LIMIT 10\n",
    "\"\"\"\n",
    "cursor.execute(query_9)\n",
    "results_10 = cursor.fetchall()\n",
    "\n",
    "print(\"\\nEnergía Promedio de Fotones por Colisión:\")\n",
    "for row in results_10:\n",
    "    print(f\"Colisión ID: {row[0]}, Energía Promedio de Fotones: {row[1]:.2f} MeV\")"
   ]
  },
  {
   "cell_type": "markdown",
   "id": "bc814d9d",
   "metadata": {},
   "source": [
    "### Reto 6\n",
    "\n",
    "Obten la energía promedio por colisión de los leptones"
   ]
  },
  {
   "cell_type": "code",
   "execution_count": null,
   "id": "c0c77838",
   "metadata": {},
   "outputs": [],
   "source": [
    "reto_6 = \"\"\"\n",
    "\n",
    "\"\"\" #Escribe la query aquí\n",
    "cursor.execute(reto_6)\n",
    "reto_6_res = cursor.fetchall()\n",
    "print(\"Resultados del reto 6:\")\n",
    "for row in reto_6_res:\n",
    "    print(row)"
   ]
  },
  {
   "cell_type": "markdown",
   "id": "72302a0c",
   "metadata": {},
   "source": [
    "# Siguientes pasos"
   ]
  },
  {
   "cell_type": "markdown",
   "id": "f67b1627",
   "metadata": {},
   "source": [
    "## Obtener la certificación de SQL de Hackerrank\n",
    "\n",
    "![SQL cert](https://cdn.cookielaw.org/logos/1584f550-08c0-4bad-96c7-defdf4ec01af/01950562-180d-7c3f-b1f4-95192c23808c/185ef56f-a601-4a52-a61e-0f8cbbafe82d/Screenshot_2025-02-14_at_16.51.18.png)\n",
    "\n",
    "***\n",
    "\n",
    "### 1. Accede a la página de Certificaciones\n",
    "\n",
    "Ir al sitio web de [HackerRank](https://www.hackerrank.com/skills-verification/sql_basic) y navegar hasta la sección de Certificaciones. Buscar  **SQL (Basic)**.\n",
    "\n",
    "***\n",
    "\n",
    "### 2. Revisar temario\n",
    "\n",
    "El examen básico de SQL cubre temas como:\n",
    "* **Consultas básicas:** `SELECT`, `FROM`, `WHERE`.\n",
    "* **Uniones de tablas:** `JOIN`, `LEFT JOIN`, `RIGHT JOIN`, `INNER JOIN`.\n",
    "* **Funciones de agregación:** `COUNT()`, `SUM()`, `AVG()`, `MIN()`, `MAX()`.\n",
    "* **Agrupamiento y filtrado:** `GROUP BY`\n",
    "* **Consultas anidadas:** `Subqueries`.\n",
    "\n",
    "\n",
    "\n",
    "***\n",
    "\n",
    "### 3. Practicar en la Plataforma\n",
    "\n",
    "[HackerRank](https://www.hackerrank.com/domains/sql) tiene ejercicios HandsOn diseñados para el examen. Intentar resolver tantos como se pueda.\n",
    "\n",
    "***\n",
    "\n",
    "### 4. Tomar el Examen\n",
    "\n",
    "El examen de SQL (Básico) tiene un formato de 30 minutos y consta de desafíos de queries. \n",
    "Hay que escribir consultas SQL en un editor de código y ejecutar un conjunto de pruebas para verificar que tus respuestas sean correctas.\n",
    "\n",
    "***\n",
    "\n",
    "### 5. Recibir Certificado\n",
    "\n",
    "Si pasas el examen, el certificado digital se generará y estará disponible para que lo descargues en tu perfil de HackerRank. Puedes compartir el enlace en tu currículum o en redes profesionales como LinkedIn."
   ]
  },
  {
   "cell_type": "markdown",
   "id": "189d762c",
   "metadata": {},
   "source": [
    "## ¡Muchas gracias por su tiempo, espero hayan aprendido y se hayan divertido!  ❤️❤️"
   ]
  }
 ],
 "metadata": {
  "kernelspec": {
   "display_name": "Python 3",
   "language": "python",
   "name": "python3"
  },
  "language_info": {
   "codemirror_mode": {
    "name": "ipython",
    "version": 3
   },
   "file_extension": ".py",
   "mimetype": "text/x-python",
   "name": "python",
   "nbconvert_exporter": "python",
   "pygments_lexer": "ipython3",
   "version": "3.11.9"
  }
 },
 "nbformat": 4,
 "nbformat_minor": 5
}
