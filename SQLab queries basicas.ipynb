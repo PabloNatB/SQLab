{
 "cells": [
  {
   "cell_type": "markdown",
   "id": "26e66913",
   "metadata": {},
   "source": [
    "# SQLab: SQL para investigación científica"
   ]
  },
  {
   "cell_type": "markdown",
   "id": "d0b3351f",
   "metadata": {},
   "source": [
    "## ¿Qué es SQL?\n",
    "\n",
    "SQL (o Structured Query Language) es un lenguaje de programación utilizado para gestionar y manipular bases de datos relacionales.\n",
    "\n",
    "Es básicamente un Excel en esteroides, ya que maneja de manera eficiente grandes volúmenes de datos (desde 10 GB hasta cientos de petabytes) manteniendo una interfaz de usuario sencilla.\n",
    "\n",
    "\n",
    "![SQL](https://upload.wikimedia.org/wikipedia/commons/thumb/8/87/Sql_data_base_with_logo.png/640px-Sql_data_base_with_logo.png)\n",
    "\n",
    "La manera en que se accede a la información de la base de datos se llama *Query* o *Consulta*\n"
   ]
  },
  {
   "cell_type": "markdown",
   "id": "df6235be",
   "metadata": {},
   "source": [
    "## Anatomía de una Query\n",
    "\n",
    "Una query se conforma de distintas partes:\n",
    "\n",
    "![Query anatomy](https://www.w3resource.com/w3r_images/select-syntax.gif)\n",
    "\n",
    "\n",
    "### **SELECT**\n",
    "Esta es la cláusula principal que especifica **qué columnas** quieres ver. Es lo que pides.\n",
    "\n",
    "* **Ejemplo:** `SELECT nombre_del_producto, precio`\n",
    "* **Función:** Le dice a la base de datos \"dame los datos de estas columnas\".\n",
    "\n",
    "***\n",
    "\n",
    "### **FROM**\n",
    "Esta cláusula indica **de dónde** vas a obtener los datos.\n",
    "\n",
    "* **Ejemplo:** `FROM tabla_de_productos`\n",
    "* **Función:** Le dice a la base de datos \"busca estos datos en esta tabla\".\n",
    "\n",
    "***\n",
    "\n",
    "### **WHERE**\n",
    "Esta cláusula es un filtro que especifica **qué filas** cumplen con una condición.\n",
    "\n",
    "* **Ejemplo:** `WHERE precio > 100`\n",
    "* **Función:** Le dice a la base de datos \"solo muéstrame las filas donde el precio es mayor a 100\".\n",
    "\n",
    "***\n",
    "\n",
    "### **GROUP BY**\n",
    "Esta cláusula agrupa filas que tienen el mismo valor en una o más columnas. Se usa con funciones de agregación como `COUNT`, `SUM` o `AVG`.\n",
    "\n",
    "* **Ejemplo:** `GROUP BY categoria`\n",
    "* **Función:** \"Agrupa los resultados por cada categoría única, para que pueda contar cuántos productos hay en cada una\".\n",
    "\n",
    "***\n",
    "\n",
    "### **ORDER BY**\n",
    "Esta cláusula ordena los resultados de la consulta.\n",
    "\n",
    "* **Ejemplo:** `ORDER BY precio DESC`\n",
    "* **Función:** \"Ordena los resultados de manera descendente (mayor a menor) basándose en el precio\".\n",
    "\n",
    "***\n",
    "\n",
    "### **HAVING**\n",
    "Similar a `WHERE`, pero se usa para filtrar los resultados de un `GROUP BY`.\n",
    "\n",
    "* **Ejemplo:** `HAVING COUNT(producto) > 50`\n",
    "* **Función:** \"Después de agrupar por categoría, solo incluye las categorías que tienen más de 50 productos\".\n",
    "\n",
    "### **El flujo de una query**\n",
    "\n",
    "A pesar de que escribes la consulta con `SELECT` al principio, el motor de la base de datos la procesa de una manera diferente. El orden de ejecución es:\n",
    "\n",
    "1.  **`FROM`**: Selecciona la tabla de origen.\n",
    "2.  **`WHERE`**: Filtra las filas de esa tabla.\n",
    "3.  **`GROUP BY`**: Agrupa las filas restantes.\n",
    "4.  **`HAVING`**: Filtra los grupos.\n",
    "5.  **`SELECT`**: Elige las columnas que se van a mostrar.\n",
    "6.  **`ORDER BY`**: Ordena el resultado final.\n"
   ]
  },
  {
   "cell_type": "markdown",
   "id": "fc4be2de",
   "metadata": {},
   "source": [
    "## Primer query\n",
    "\n",
    "\n",
    "En este taller vamos a estar ocupando datos de colisiones de partíclas medidos con el detector ATLAS del CERN.\n",
    "Para más información consultar: \n",
    "\n",
    "> ATLAS collaboration (2025). ATLAS ROOT ntuple format Run 2 2015+2016 proton-proton collision data beta release, 2J2LMET30 skim. CERN Open Data Portal. DOI:10.7483/OPENDATA.ATLAS.0CJR.N7ZT"
   ]
  },
  {
   "cell_type": "markdown",
   "id": "3d1fe8ed",
   "metadata": {},
   "source": [
    "Primero conectamos a la base de datos"
   ]
  },
  {
   "cell_type": "code",
   "execution_count": null,
   "id": "cbe01805",
   "metadata": {},
   "outputs": [
    {
     "name": "stdout",
     "output_type": "stream",
     "text": [
      "Conexión exitosa a MySQL.\n"
     ]
    }
   ],
   "source": [
    "import mysql.connector\n",
    "\n",
    "# Datos de conexión\n",
    "#Primero declaramos los datos para conectarse\n",
    "config = {\n",
    "    'user':\"<user>\", \n",
    "    'password':\"<pwd>\", \n",
    "    'host':\"<host address>\", \n",
    "    'port':3306, \n",
    "    'database':\"particles\"\n",
    "}\n",
    "\n",
    "try:\n",
    "    mydb = mysql.connector.connect(**config)\n",
    "    cursor = mydb.cursor()\n",
    "    print(\"Conexión exitosa a MySQL.\")\n",
    "except mysql.connector.Error as err:\n",
    "    print(f\"Error: {err}\")"
   ]
  },
  {
   "cell_type": "code",
   "execution_count": 3,
   "id": "c7b7d047",
   "metadata": {},
   "outputs": [
    {
     "name": "stdout",
     "output_type": "stream",
     "text": [
      "Resultados de la tabla 'collisions':\n",
      "(0, 1, 1, 1, Decimal('57'), Decimal('1'), Decimal('43'), Decimal('38'))\n",
      "(1, 1, 1, 1, Decimal('32'), Decimal('1'), Decimal('16'), Decimal('28'))\n",
      "(2, 1, 1, 1, Decimal('41'), Decimal('2'), Decimal('-5'), Decimal('41'))\n",
      "(3, 1, 1, 1, Decimal('50'), Decimal('-1'), Decimal('17'), Decimal('-47'))\n",
      "(4, 1, 1, 1, Decimal('39'), Decimal('-3'), Decimal('-39'), Decimal('-7'))\n",
      "\n",
      "Resultados de 'met' y 'met_phi':\n",
      "(Decimal('57'), Decimal('1'))\n",
      "(Decimal('32'), Decimal('1'))\n",
      "(Decimal('41'), Decimal('2'))\n",
      "(Decimal('50'), Decimal('-1'))\n",
      "(Decimal('39'), Decimal('-3'))\n"
     ]
    }
   ],
   "source": [
    "# Consulta 1: Seleccionar todas las columnas de la tabla 'collisions'\n",
    "query_1 = \"SELECT * FROM collisions LIMIT 5\" # Usamos LIMIT para no saturar la salida\n",
    "cursor.execute(query_1)\n",
    "results_1 = cursor.fetchall()\n",
    "print(\"Resultados de la tabla 'collisions':\")\n",
    "for row in results_1:\n",
    "    print(row)\n",
    "\n",
    "# Consulta 2: Seleccionar 'met' y 'met_phi' de las colisiones\n",
    "query_2 = \"SELECT met, met_phi FROM collisions LIMIT 5\"\n",
    "cursor.execute(query_2)\n",
    "results_2 = cursor.fetchall()\n",
    "print(\"\\nResultados de 'met' y 'met_phi':\")\n",
    "for row in results_2:\n",
    "    print(row)"
   ]
  },
  {
   "cell_type": "code",
   "execution_count": 4,
   "id": "84a758c4",
   "metadata": {},
   "outputs": [
    {
     "name": "stdout",
     "output_type": "stream",
     "text": [
      "Colisiones con met > 50:\n",
      "(Decimal('57'), Decimal('1'))\n",
      "(Decimal('59'), Decimal('-1'))\n",
      "(Decimal('82'), Decimal('-2'))\n",
      "(Decimal('69'), Decimal('3'))\n",
      "(Decimal('69'), Decimal('1'))\n",
      "(Decimal('59'), Decimal('1'))\n",
      "(Decimal('61'), Decimal('1'))\n",
      "(Decimal('63'), Decimal('1'))\n",
      "(Decimal('52'), Decimal('-1'))\n",
      "(Decimal('73'), Decimal('-1'))\n"
     ]
    }
   ],
   "source": [
    "# Consulta 3: Colisiones donde 'met' es mayor a 50\n",
    "query_3 = \"SELECT met, met_phi FROM collisions WHERE met > 50 LIMIT 10\"\n",
    "cursor.execute(query_3)\n",
    "results_3 = cursor.fetchall()\n",
    "print(\"Colisiones con met > 50:\")\n",
    "for row in results_3:\n",
    "    print(row)"
   ]
  },
  {
   "cell_type": "code",
   "execution_count": 5,
   "id": "45c2a8cf",
   "metadata": {},
   "outputs": [
    {
     "name": "stdout",
     "output_type": "stream",
     "text": [
      "\n",
      "Energía promedio de los jets: 100.8668\n",
      "Número total de leptones: 21461\n"
     ]
    }
   ],
   "source": [
    "# Consulta 4: Encontrar la energía promedio de los jets\n",
    "query_4 = \"SELECT AVG(jet_e) FROM jets\"\n",
    "cursor.execute(query_4)\n",
    "result_4 = cursor.fetchone() # Usamos fetchone() porque la consulta solo devuelve una fila\n",
    "print(f\"\\nEnergía promedio de los jets: {result_4[0]}\")\n",
    "\n",
    "# Consulta 5: Contar el número total de leptones\n",
    "query_5 = \"SELECT COUNT(*) FROM leptons\"\n",
    "cursor.execute(query_5)\n",
    "result_5 = cursor.fetchone()\n",
    "print(f\"Número total de leptones: {result_5[0]}\")"
   ]
  },
  {
   "cell_type": "code",
   "execution_count": 6,
   "id": "702c0e3d",
   "metadata": {},
   "outputs": [
    {
     "name": "stdout",
     "output_type": "stream",
     "text": [
      "\n",
      "Conteo de leptones por tipo:\n",
      "Tipo 11: 6303 leptones\n",
      "Tipo 13: 15158 leptones\n"
     ]
    }
   ],
   "source": [
    "# Consulta 6: Contar el número de leptones por 'lep_type'\n",
    "query_6 = \"\"\"\n",
    "SELECT lep_type, COUNT(*) AS total_leptones\n",
    "FROM leptons\n",
    "GROUP BY lep_type\n",
    "\"\"\"\n",
    "cursor.execute(query_6)\n",
    "results_6 = cursor.fetchall()\n",
    "print(\"\\nConteo de leptones por tipo:\")\n",
    "for row in results_6:\n",
    "    print(f\"Tipo {row[0]}: {row[1]} leptones\")"
   ]
  },
  {
   "cell_type": "code",
   "execution_count": 7,
   "id": "7f22e80b",
   "metadata": {},
   "outputs": [
    {
     "name": "stdout",
     "output_type": "stream",
     "text": [
      "\n",
      "Unión de colisiones y leptones:\n",
      "met: 57, Tipo de leptón: 11, Carga: -1\n",
      "met: 57, Tipo de leptón: 11, Carga: -1\n",
      "met: 57, Tipo de leptón: 13, Carga: 1\n",
      "met: 32, Tipo de leptón: 11, Carga: 1\n",
      "met: 32, Tipo de leptón: 11, Carga: -1\n",
      "met: 41, Tipo de leptón: 13, Carga: -1\n",
      "met: 41, Tipo de leptón: 13, Carga: 1\n",
      "met: 50, Tipo de leptón: 13, Carga: -1\n",
      "met: 50, Tipo de leptón: 13, Carga: 1\n",
      "met: 39, Tipo de leptón: 13, Carga: 1\n"
     ]
    }
   ],
   "source": [
    "# Consulta 7: Obtener el met de la colisión junto con el tipo y carga del leptón\n",
    "query_7 = \"\"\"\n",
    "SELECT T1.met, T2.lep_type, T2.lep_charge\n",
    "FROM collisions AS T1\n",
    "JOIN leptons AS T2 ON T1.collision_ID = T2.collision_ID\n",
    "LIMIT 10\n",
    "\"\"\"\n",
    "cursor.execute(query_7)\n",
    "results_7 = cursor.fetchall()\n",
    "print(\"\\nUnión de colisiones y leptones:\")\n",
    "for row in results_7:\n",
    "    print(f\"met: {row[0]}, Tipo de leptón: {row[1]}, Carga: {row[2]}\")"
   ]
  },
  {
   "cell_type": "code",
   "execution_count": 8,
   "id": "1e4be18f",
   "metadata": {},
   "outputs": [
    {
     "name": "stdout",
     "output_type": "stream",
     "text": [
      "\n",
      "Las 5 colisiones con el met más alto:\n",
      "met: 546, met_phi: -2\n",
      "met: 418, met_phi: -3\n",
      "met: 398, met_phi: 0\n",
      "met: 395, met_phi: 3\n",
      "met: 377, met_phi: 2\n"
     ]
    }
   ],
   "source": [
    "# Consulta 8: Las 5 colisiones con el met más alto\n",
    "query_8 = \"SELECT met, met_phi FROM collisions ORDER BY met DESC LIMIT 5\"\n",
    "cursor.execute(query_8)\n",
    "results_8 = cursor.fetchall()\n",
    "print(\"\\nLas 5 colisiones con el met más alto:\")\n",
    "for row in results_8:\n",
    "    print(f\"met: {row[0]}, met_phi: {row[1]}\")  "
   ]
  }
 ],
 "metadata": {
  "kernelspec": {
   "display_name": "Python 3",
   "language": "python",
   "name": "python3"
  },
  "language_info": {
   "codemirror_mode": {
    "name": "ipython",
    "version": 3
   },
   "file_extension": ".py",
   "mimetype": "text/x-python",
   "name": "python",
   "nbconvert_exporter": "python",
   "pygments_lexer": "ipython3",
   "version": "3.11.9"
  }
 },
 "nbformat": 4,
 "nbformat_minor": 5
}
